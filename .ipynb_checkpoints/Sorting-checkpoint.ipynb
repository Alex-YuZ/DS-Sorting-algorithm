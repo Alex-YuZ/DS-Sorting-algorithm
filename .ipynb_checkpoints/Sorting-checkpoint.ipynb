{
 "cells": [
  {
   "cell_type": "markdown",
   "metadata": {},
   "source": [
    "# Sorting Algorithm\n",
    "\n",
    "### Table of Contents\n",
    "\n",
    "- [Selection Sort](#select_sort)\n",
    "- [Quick Sort](#quick_sort)\n",
    "\n",
    "\n",
    "---"
   ]
  },
  {
   "cell_type": "markdown",
   "metadata": {},
   "source": [
    "<a id='select_sort'></a>\n",
    "## Selection Sort"
   ]
  },
  {
   "cell_type": "code",
   "execution_count": 41,
   "metadata": {},
   "outputs": [],
   "source": [
    "def find_smallest(arr):\n",
    "    \n",
    "    smallest_val = arr[0]\n",
    "    smallest_idx = 0\n",
    "    \n",
    "    for i in range(1, len(arr)):\n",
    "        if arr[i] < smallest_val:\n",
    "            smallest_val = arr[i]\n",
    "            smallest_idx = i\n",
    "            \n",
    "    return smallest_idx\n",
    "\n",
    "def find_largest(arr):\n",
    "        \n",
    "    largest_val = arr[0]\n",
    "    largest_idx = 0\n",
    "    \n",
    "    for i in range(1, len(arr)):\n",
    "        if arr[i] > largest_val:\n",
    "            largest_val = arr[i]\n",
    "            largest_idx = i\n",
    "            \n",
    "    return largest_idx\n",
    "    \n",
    "\n",
    "def selection_sort(arr, ascending=True):\n",
    "    \n",
    "    new_arr = []\n",
    "    \n",
    "    if ascending == True:\n",
    "        for i in range(len(arr)):\n",
    "            smallest_idx = find_smallest(arr)\n",
    "            new_arr.append(arr.pop(smallest_idx))\n",
    "            \n",
    "    elif ascending == False:\n",
    "        for i in range(len(arr)):\n",
    "            largest_idx = find_largest(arr)\n",
    "            new_arr.append(arr.pop(largest_idx))\n",
    "        \n",
    "    return new_arr"
   ]
  },
  {
   "cell_type": "code",
   "execution_count": 82,
   "metadata": {},
   "outputs": [
    {
     "name": "stdout",
     "output_type": "stream",
     "text": [
      "Before sort: [82, 31, 35, 11, 12]\n",
      "After sort: [11, 12, 31, 35, 82]\n"
     ]
    }
   ],
   "source": [
    "arr1 = list(np.random.randint(1, 100, 5))\n",
    "\n",
    "print(\"Before sort: {}\".format(arr1))\n",
    "print(\"After sort: {}\".format(selection_sort(arr1)))"
   ]
  },
  {
   "cell_type": "code",
   "execution_count": 86,
   "metadata": {},
   "outputs": [
    {
     "name": "stdout",
     "output_type": "stream",
     "text": [
      "Before sort: [79, 54, 9, 99, 33]\n",
      "After sort: [99, 79, 54, 33, 9]\n"
     ]
    }
   ],
   "source": [
    "arr1 = list(np.random.randint(1, 100, 5))\n",
    "\n",
    "print(\"Before sort: {}\".format(arr1))\n",
    "print(\"After sort: {}\".format(selection_sort(arr1, ascending=False)))"
   ]
  },
  {
   "cell_type": "markdown",
   "metadata": {},
   "source": [
    "<a id='quick_sort'></a>\n",
    "## Quick Sort"
   ]
  },
  {
   "cell_type": "markdown",
   "metadata": {},
   "source": [
    "### Introduction to Recursion"
   ]
  },
  {
   "cell_type": "code",
   "execution_count": 62,
   "metadata": {},
   "outputs": [],
   "source": [
    "def get_sum(arr):\n",
    "    \"\"\"Calculate the sum of all elements in an array\"\"\"\n",
    "    if len(arr) == 1:\n",
    "        return arr[0]\n",
    "    \n",
    "    else:\n",
    "        return arr.pop() + get_sum(arr)\n",
    "\n",
    "def get_product(arr):\n",
    "    \"\"\"Calcualte the product of all elements in an array\"\"\"\n",
    "    if len(arr) == 1:\n",
    "        return arr[0]\n",
    "    \n",
    "    else:\n",
    "        return arr.pop() * get_product(arr)"
   ]
  },
  {
   "cell_type": "code",
   "execution_count": 67,
   "metadata": {},
   "outputs": [
    {
     "name": "stdout",
     "output_type": "stream",
     "text": [
      "The total sum is 10.\n",
      "The total product is 120.\n"
     ]
    }
   ],
   "source": [
    "print(\"The total sum is {}.\".format(get_sum([1,2,3,4])))\n",
    "print(\"The total product is {}.\".format(get_product([2,3,4,5])))"
   ]
  },
  {
   "cell_type": "markdown",
   "metadata": {},
   "source": [
    "### Quick Sort\n",
    "\n",
    "1. Choose the pivot value\n",
    "2. Partitioning and sort the sub-array\n",
    "3. Combination"
   ]
  },
  {
   "cell_type": "code",
   "execution_count": 109,
   "metadata": {},
   "outputs": [],
   "source": [
    "def quicksort(array, ascending=True):\n",
    "    \"\"\"Sort the elements in an array using `quick sort` algorithm\"\"\"\n",
    "    \n",
    "    if ascending == True:\n",
    "        # baseline condition\n",
    "        if len(array)<2:\n",
    "            return array\n",
    "\n",
    "        # recursive condition\n",
    "        else:\n",
    "            pivot=array[0]\n",
    "            less=[i for i in array[1:] if i <= pivot]\n",
    "            greater=[i for i in array[1:] if i > pivot]\n",
    "            return quicksort(less)+[pivot]+quicksort(greater)\n",
    "        \n",
    "    elif ascending == False:\n",
    "        # baseline condition\n",
    "        if len(array)<2:\n",
    "            return array\n",
    "\n",
    "        # recursive condition\n",
    "        else:\n",
    "            pivot = array[0]\n",
    "            left = [i for i in array[1:] if i >= pivot]\n",
    "            right = [i for i in array[1:] if i < pivot]\n",
    "            return quicksort(left, ascending=False) + [pivot] + quicksort(right, ascending=False)\n",
    "        "
   ]
  },
  {
   "cell_type": "code",
   "execution_count": 110,
   "metadata": {},
   "outputs": [
    {
     "name": "stdout",
     "output_type": "stream",
     "text": [
      "Before sort: [25, 28, 25, 89, 30]\n",
      "After sort: [25, 25, 28, 30, 89]\n"
     ]
    }
   ],
   "source": [
    "arr1 = list(np.random.randint(1, 100, 5))\n",
    "\n",
    "print(\"Before sort: {}\".format(arr1))\n",
    "print(\"After sort: {}\".format(quicksort(arr1)))"
   ]
  },
  {
   "cell_type": "code",
   "execution_count": 111,
   "metadata": {},
   "outputs": [
    {
     "name": "stdout",
     "output_type": "stream",
     "text": [
      "Before sort: [27, 33, 72, 15, 80]\n",
      "After sort: [80, 72, 33, 27, 15]\n"
     ]
    }
   ],
   "source": [
    "arr1 = list(np.random.randint(1, 100, 5))\n",
    "\n",
    "print(\"Before sort: {}\".format(arr1))\n",
    "print(\"After sort: {}\".format(quicksort(arr1, ascending=False)))"
   ]
  },
  {
   "cell_type": "code",
   "execution_count": null,
   "metadata": {},
   "outputs": [],
   "source": []
  }
 ],
 "metadata": {
  "kernelspec": {
   "display_name": "Python 3",
   "language": "python",
   "name": "python3"
  },
  "language_info": {
   "codemirror_mode": {
    "name": "ipython",
    "version": 3
   },
   "file_extension": ".py",
   "mimetype": "text/x-python",
   "name": "python",
   "nbconvert_exporter": "python",
   "pygments_lexer": "ipython3",
   "version": "3.7.9"
  }
 },
 "nbformat": 4,
 "nbformat_minor": 4
}
