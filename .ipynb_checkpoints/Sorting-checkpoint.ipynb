{
 "cells": [
  {
   "cell_type": "markdown",
   "metadata": {},
   "source": [
    "## Selection Sort"
   ]
  },
  {
   "cell_type": "code",
   "execution_count": 41,
   "metadata": {},
   "outputs": [],
   "source": [
    "def find_smallest(arr):\n",
    "    \n",
    "    smallest_val = arr[0]\n",
    "    smallest_idx = 0\n",
    "    \n",
    "    for i in range(1, len(arr)):\n",
    "        if arr[i] < smallest_val:\n",
    "            smallest_val = arr[i]\n",
    "            smallest_idx = i\n",
    "            \n",
    "    return smallest_idx\n",
    "\n",
    "def find_largest(arr):\n",
    "        \n",
    "    largest_val = arr[0]\n",
    "    largest_idx = 0\n",
    "    \n",
    "    for i in range(1, len(arr)):\n",
    "        if arr[i] > largest_val:\n",
    "            largest_val = arr[i]\n",
    "            largest_idx = i\n",
    "            \n",
    "    return largest_idx\n",
    "    \n",
    "\n",
    "def selection_sort(arr, ascending=True):\n",
    "    \n",
    "    new_arr = []\n",
    "    \n",
    "    if ascending == True:\n",
    "        for i in range(len(arr)):\n",
    "            smallest_idx = find_smallest(arr)\n",
    "            new_arr.append(arr.pop(smallest_idx))\n",
    "            \n",
    "    elif ascending == False:\n",
    "        for i in range(len(arr)):\n",
    "            largest_idx = find_largest(arr)\n",
    "            new_arr.append(arr.pop(largest_idx))\n",
    "        \n",
    "    return new_arr"
   ]
  },
  {
   "cell_type": "code",
   "execution_count": 48,
   "metadata": {},
   "outputs": [],
   "source": [
    "arr1 = [5, 3, 6, 2, 10, 2]"
   ]
  },
  {
   "cell_type": "code",
   "execution_count": 49,
   "metadata": {},
   "outputs": [
    {
     "data": {
      "text/plain": [
       "[2, 2, 3, 5, 6, 10]"
      ]
     },
     "execution_count": 49,
     "metadata": {},
     "output_type": "execute_result"
    }
   ],
   "source": [
    "selection_sort(arr1)"
   ]
  },
  {
   "cell_type": "code",
   "execution_count": 34,
   "metadata": {},
   "outputs": [
    {
     "data": {
      "text/plain": [
       "[]"
      ]
     },
     "execution_count": 34,
     "metadata": {},
     "output_type": "execute_result"
    }
   ],
   "source": [
    "arr1"
   ]
  },
  {
   "cell_type": "markdown",
   "metadata": {},
   "source": [
    "## Quick Sort"
   ]
  },
  {
   "cell_type": "code",
   "execution_count": null,
   "metadata": {},
   "outputs": [],
   "source": []
  }
 ],
 "metadata": {
  "kernelspec": {
   "display_name": "Python 3",
   "language": "python",
   "name": "python3"
  },
  "language_info": {
   "codemirror_mode": {
    "name": "ipython",
    "version": 3
   },
   "file_extension": ".py",
   "mimetype": "text/x-python",
   "name": "python",
   "nbconvert_exporter": "python",
   "pygments_lexer": "ipython3",
   "version": "3.7.9"
  }
 },
 "nbformat": 4,
 "nbformat_minor": 4
}
